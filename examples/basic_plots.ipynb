{
 "cells": [
  {
   "cell_type": "markdown",
   "metadata": {},
   "source": [
    "# ProPlotter Examples"
   ]
  },
  {
   "cell_type": "markdown",
   "metadata": {},
   "source": [
    "This notebook demonstrates how to use the `proplotter` library to create various plots."
   ]
  },
  {
   "cell_type": "code",
   "execution_count": null,
   "metadata": {},
   "outputs": [],
   "source": [
    "import pandas as pd\n",
    "import numpy as np\n",
    "from proplotter import api as pp"
   ]
  },
  {
   "cell_type": "markdown",
   "metadata": {},
   "source": [
    "## Scatter Plot"
   ]
  },
  {
   "cell_type": "code",
   "execution_count": null,
   "metadata": {},
   "outputs": [],
   "source": [
    "# Create sample data\n",
    "data = pd.DataFrame({\n",
    "    'actual': np.random.rand(100) * 100,\n",
    "    'predicted': np.random.rand(100) * 100\n",
    "})\n",
    "\n",
    "# Create scatter plot\n",
    "fig, ax = pp.scatter(data, x_col='predicted', y_col='actual')"
   ]
  },
  {
   "cell_type": "markdown",
   "metadata": {},
   "source": [
    "## Line Plot"
   ]
  },
  {
   "cell_type": "code",
   "execution_count": null,
   "metadata": {},
   "outputs": [],
   "source": [
    "# Create sample data\n",
    "data = pd.DataFrame({\n",
    "    'x': np.arange(100),\n",
    "    'y': np.sin(np.arange(100) * 0.1)\n",
    "})\n",
    "\n",
    "# Create line plot\n",
    "fig, ax = pp.line(data, x_col='x', y_col='y')"
   ]
  },
  {
   "cell_type": "markdown",
   "metadata": {},
   "source": [
    "## Bar Plot"
   ]
  },
  {
   "cell_type": "code",
   "execution_count": null,
   "metadata": {},
   "outputs": [],
   "source": [
    "# Create sample data\n",
    "data = pd.DataFrame({\n",
    "    'model': ['A', 'B', 'C', 'D'],\n",
    "    'rmse': [10, 8, 12, 9]\n",
    "})\n",
    "\n",
    "# Create bar plot\n",
    "fig, ax = pp.bar(data, x_col='model', y_col='rmse')"
   ]
  },
  {
   "cell_type": "markdown",
   "metadata": {},
   "source": [
    "## Histogram"
   ]
  },
  {
   "cell_type": "code",
   "execution_count": null,
   "metadata": {},
   "outputs": [],
   "source": [
    "# Create sample data\n",
    "data = pd.DataFrame({\n",
    "    'errors': np.random.randn(1000)\n",
    "})\n",
    "\n",
    "# Create histogram\n",
    "fig, ax = pp.hist(data, x_col='errors', bins=30)"
   ]
  }
 ],
 "metadata": {
  "kernelspec": {
   "display_name": "Python 3",
   "language": "python",
   "name": "python3"
  },
  "language_info": {
   "codemirror_mode": {
    "name": "ipython",
    "version": 3
   },
   "file_extension": ".py",
   "mimetype": "text/x-python",
   "name": "python",
   "nbconvert_exporter": "python",
   "pygments_lexer": "ipython3",
   "version": "3.9.12"
  }
 },
 "nbformat": 4,
 "nbformat_minor": 4
}